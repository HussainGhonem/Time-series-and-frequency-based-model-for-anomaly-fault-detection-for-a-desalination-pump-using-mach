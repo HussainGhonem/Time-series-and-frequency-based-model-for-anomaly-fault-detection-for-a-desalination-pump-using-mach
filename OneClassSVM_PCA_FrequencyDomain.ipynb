{
 "cells": [
  {
   "cell_type": "code",
   "execution_count": 1,
   "metadata": {
    "id": "4c4XxVMmuK7k"
   },
   "outputs": [],
   "source": [
    "import pandas as pd\n",
    "from sklearn.preprocessing import StandardScaler\n",
    "import matplotlib.pyplot as plt\n",
    "import numpy as np\n",
    "import seaborn as sb\n",
    "import plotly.express as px \n",
    "from scipy.fftpack import fft \n",
    "from sklearn.model_selection import train_test_split\n",
    "from sklearn.svm import OneClassSVM\n",
    "from sklearn.metrics import classification_report\n",
    "from sklearn.decomposition import PCA\n",
    "from sklearn.model_selection import KFold \n",
    "from sklearn import preprocessing\n",
    "from numpy.fft import fft, ifft"
   ]
  },
  {
   "cell_type": "markdown",
   "metadata": {},
   "source": [
    "# Dynamic Pressure"
   ]
  },
  {
   "cell_type": "code",
   "execution_count": 2,
   "metadata": {},
   "outputs": [
    {
     "data": {
      "text/html": [
       "<div>\n",
       "<style scoped>\n",
       "    .dataframe tbody tr th:only-of-type {\n",
       "        vertical-align: middle;\n",
       "    }\n",
       "\n",
       "    .dataframe tbody tr th {\n",
       "        vertical-align: top;\n",
       "    }\n",
       "\n",
       "    .dataframe thead th {\n",
       "        text-align: right;\n",
       "    }\n",
       "</style>\n",
       "<table border=\"1\" class=\"dataframe\">\n",
       "  <thead>\n",
       "    <tr style=\"text-align: right;\">\n",
       "      <th></th>\n",
       "      <th>Time</th>\n",
       "      <th>P out bar</th>\n",
       "      <th>P in bar</th>\n",
       "      <th>Q  L/M</th>\n",
       "      <th>Dynamic Pressure</th>\n",
       "    </tr>\n",
       "  </thead>\n",
       "  <tbody>\n",
       "    <tr>\n",
       "      <th>0</th>\n",
       "      <td>0.000000</td>\n",
       "      <td>1.161289</td>\n",
       "      <td>-0.084085</td>\n",
       "      <td>49.443383</td>\n",
       "      <td>-0.002651</td>\n",
       "    </tr>\n",
       "    <tr>\n",
       "      <th>1</th>\n",
       "      <td>0.000098</td>\n",
       "      <td>1.161289</td>\n",
       "      <td>-0.084085</td>\n",
       "      <td>49.443383</td>\n",
       "      <td>-0.004067</td>\n",
       "    </tr>\n",
       "    <tr>\n",
       "      <th>2</th>\n",
       "      <td>0.000195</td>\n",
       "      <td>1.161289</td>\n",
       "      <td>-0.084085</td>\n",
       "      <td>49.443383</td>\n",
       "      <td>-0.003631</td>\n",
       "    </tr>\n",
       "    <tr>\n",
       "      <th>3</th>\n",
       "      <td>0.000293</td>\n",
       "      <td>1.161289</td>\n",
       "      <td>-0.084085</td>\n",
       "      <td>49.443383</td>\n",
       "      <td>-0.010969</td>\n",
       "    </tr>\n",
       "    <tr>\n",
       "      <th>4</th>\n",
       "      <td>0.000391</td>\n",
       "      <td>1.161289</td>\n",
       "      <td>-0.084085</td>\n",
       "      <td>49.443383</td>\n",
       "      <td>-0.002324</td>\n",
       "    </tr>\n",
       "    <tr>\n",
       "      <th>...</th>\n",
       "      <td>...</td>\n",
       "      <td>...</td>\n",
       "      <td>...</td>\n",
       "      <td>...</td>\n",
       "      <td>...</td>\n",
       "    </tr>\n",
       "    <tr>\n",
       "      <th>919995</th>\n",
       "      <td>89.843262</td>\n",
       "      <td>0.593152</td>\n",
       "      <td>-0.090887</td>\n",
       "      <td>49.371344</td>\n",
       "      <td>0.018307</td>\n",
       "    </tr>\n",
       "    <tr>\n",
       "      <th>919996</th>\n",
       "      <td>89.843359</td>\n",
       "      <td>0.593152</td>\n",
       "      <td>-0.090887</td>\n",
       "      <td>49.371344</td>\n",
       "      <td>0.026480</td>\n",
       "    </tr>\n",
       "    <tr>\n",
       "      <th>919997</th>\n",
       "      <td>89.843457</td>\n",
       "      <td>0.593152</td>\n",
       "      <td>-0.090887</td>\n",
       "      <td>49.371344</td>\n",
       "      <td>0.018162</td>\n",
       "    </tr>\n",
       "    <tr>\n",
       "      <th>919998</th>\n",
       "      <td>89.843555</td>\n",
       "      <td>0.593152</td>\n",
       "      <td>-0.090887</td>\n",
       "      <td>49.371344</td>\n",
       "      <td>0.021976</td>\n",
       "    </tr>\n",
       "    <tr>\n",
       "      <th>919999</th>\n",
       "      <td>89.843652</td>\n",
       "      <td>0.593152</td>\n",
       "      <td>-0.090887</td>\n",
       "      <td>49.371344</td>\n",
       "      <td>0.025899</td>\n",
       "    </tr>\n",
       "  </tbody>\n",
       "</table>\n",
       "<p>920000 rows × 5 columns</p>\n",
       "</div>"
      ],
      "text/plain": [
       "            Time   P out bar  P in bar     Q  L/M  Dynamic Pressure\n",
       "0        0.000000   1.161289 -0.084085  49.443383         -0.002651\n",
       "1        0.000098   1.161289 -0.084085  49.443383         -0.004067\n",
       "2        0.000195   1.161289 -0.084085  49.443383         -0.003631\n",
       "3        0.000293   1.161289 -0.084085  49.443383         -0.010969\n",
       "4        0.000391   1.161289 -0.084085  49.443383         -0.002324\n",
       "...           ...        ...       ...        ...               ...\n",
       "919995  89.843262   0.593152 -0.090887  49.371344          0.018307\n",
       "919996  89.843359   0.593152 -0.090887  49.371344          0.026480\n",
       "919997  89.843457   0.593152 -0.090887  49.371344          0.018162\n",
       "919998  89.843555   0.593152 -0.090887  49.371344          0.021976\n",
       "919999  89.843652   0.593152 -0.090887  49.371344          0.025899\n",
       "\n",
       "[920000 rows x 5 columns]"
      ]
     },
     "execution_count": 2,
     "metadata": {},
     "output_type": "execute_result"
    }
   ],
   "source": [
    "Normal_DP=pd.read_csv(\"Normal_DP.csv\")\n",
    "Normal_DP=Normal_DP.drop(columns=['Unnamed: 0'])\n",
    "Normal_DP"
   ]
  },
  {
   "cell_type": "code",
   "execution_count": 3,
   "metadata": {},
   "outputs": [
    {
     "data": {
      "text/plain": [
       "0          0.000000\n",
       "1          0.000098\n",
       "2          0.000195\n",
       "3          0.000293\n",
       "4          0.000391\n",
       "            ...    \n",
       "919995    89.843262\n",
       "919996    89.843359\n",
       "919997    89.843457\n",
       "919998    89.843555\n",
       "919999    89.843652\n",
       "Name: Time , Length: 920000, dtype: float64"
      ]
     },
     "execution_count": 3,
     "metadata": {},
     "output_type": "execute_result"
    }
   ],
   "source": [
    "Time_Norm= Normal_DP['Time ']\n",
    "Time_Norm"
   ]
  },
  {
   "cell_type": "code",
   "execution_count": 4,
   "metadata": {
    "scrolled": true
   },
   "outputs": [
    {
     "data": {
      "text/html": [
       "<div>\n",
       "<style scoped>\n",
       "    .dataframe tbody tr th:only-of-type {\n",
       "        vertical-align: middle;\n",
       "    }\n",
       "\n",
       "    .dataframe tbody tr th {\n",
       "        vertical-align: top;\n",
       "    }\n",
       "\n",
       "    .dataframe thead th {\n",
       "        text-align: right;\n",
       "    }\n",
       "</style>\n",
       "<table border=\"1\" class=\"dataframe\">\n",
       "  <thead>\n",
       "    <tr style=\"text-align: right;\">\n",
       "      <th></th>\n",
       "      <th>P out bar</th>\n",
       "      <th>P in bar</th>\n",
       "      <th>Q  L/M</th>\n",
       "      <th>Dynamic Pressure</th>\n",
       "    </tr>\n",
       "  </thead>\n",
       "  <tbody>\n",
       "    <tr>\n",
       "      <th>0</th>\n",
       "      <td>1.161289</td>\n",
       "      <td>-0.084085</td>\n",
       "      <td>49.443383</td>\n",
       "      <td>-0.002651</td>\n",
       "    </tr>\n",
       "    <tr>\n",
       "      <th>1</th>\n",
       "      <td>1.161289</td>\n",
       "      <td>-0.084085</td>\n",
       "      <td>49.443383</td>\n",
       "      <td>-0.004067</td>\n",
       "    </tr>\n",
       "    <tr>\n",
       "      <th>2</th>\n",
       "      <td>1.161289</td>\n",
       "      <td>-0.084085</td>\n",
       "      <td>49.443383</td>\n",
       "      <td>-0.003631</td>\n",
       "    </tr>\n",
       "    <tr>\n",
       "      <th>3</th>\n",
       "      <td>1.161289</td>\n",
       "      <td>-0.084085</td>\n",
       "      <td>49.443383</td>\n",
       "      <td>-0.010969</td>\n",
       "    </tr>\n",
       "    <tr>\n",
       "      <th>4</th>\n",
       "      <td>1.161289</td>\n",
       "      <td>-0.084085</td>\n",
       "      <td>49.443383</td>\n",
       "      <td>-0.002324</td>\n",
       "    </tr>\n",
       "    <tr>\n",
       "      <th>...</th>\n",
       "      <td>...</td>\n",
       "      <td>...</td>\n",
       "      <td>...</td>\n",
       "      <td>...</td>\n",
       "    </tr>\n",
       "    <tr>\n",
       "      <th>919995</th>\n",
       "      <td>0.593152</td>\n",
       "      <td>-0.090887</td>\n",
       "      <td>49.371344</td>\n",
       "      <td>0.018307</td>\n",
       "    </tr>\n",
       "    <tr>\n",
       "      <th>919996</th>\n",
       "      <td>0.593152</td>\n",
       "      <td>-0.090887</td>\n",
       "      <td>49.371344</td>\n",
       "      <td>0.026480</td>\n",
       "    </tr>\n",
       "    <tr>\n",
       "      <th>919997</th>\n",
       "      <td>0.593152</td>\n",
       "      <td>-0.090887</td>\n",
       "      <td>49.371344</td>\n",
       "      <td>0.018162</td>\n",
       "    </tr>\n",
       "    <tr>\n",
       "      <th>919998</th>\n",
       "      <td>0.593152</td>\n",
       "      <td>-0.090887</td>\n",
       "      <td>49.371344</td>\n",
       "      <td>0.021976</td>\n",
       "    </tr>\n",
       "    <tr>\n",
       "      <th>919999</th>\n",
       "      <td>0.593152</td>\n",
       "      <td>-0.090887</td>\n",
       "      <td>49.371344</td>\n",
       "      <td>0.025899</td>\n",
       "    </tr>\n",
       "  </tbody>\n",
       "</table>\n",
       "<p>920000 rows × 4 columns</p>\n",
       "</div>"
      ],
      "text/plain": [
       "        P out bar  P in bar     Q  L/M  Dynamic Pressure\n",
       "0        1.161289 -0.084085  49.443383         -0.002651\n",
       "1        1.161289 -0.084085  49.443383         -0.004067\n",
       "2        1.161289 -0.084085  49.443383         -0.003631\n",
       "3        1.161289 -0.084085  49.443383         -0.010969\n",
       "4        1.161289 -0.084085  49.443383         -0.002324\n",
       "...           ...       ...        ...               ...\n",
       "919995   0.593152 -0.090887  49.371344          0.018307\n",
       "919996   0.593152 -0.090887  49.371344          0.026480\n",
       "919997   0.593152 -0.090887  49.371344          0.018162\n",
       "919998   0.593152 -0.090887  49.371344          0.021976\n",
       "919999   0.593152 -0.090887  49.371344          0.025899\n",
       "\n",
       "[920000 rows x 4 columns]"
      ]
     },
     "execution_count": 4,
     "metadata": {},
     "output_type": "execute_result"
    }
   ],
   "source": [
    "Normal_DP=Normal_DP.drop(columns=['Time '])\n",
    "Normal_DP"
   ]
  },
  {
   "cell_type": "code",
   "execution_count": 5,
   "metadata": {},
   "outputs": [],
   "source": [
    "for col in Normal_DP:\n",
    "    Normal_DP[col] = (Normal_DP[col]-Normal_DP[col].min())/(Normal_DP[col].max()-Normal_DP[col].min())"
   ]
  },
  {
   "cell_type": "code",
   "execution_count": 6,
   "metadata": {},
   "outputs": [
    {
     "data": {
      "text/html": [
       "<div>\n",
       "<style scoped>\n",
       "    .dataframe tbody tr th:only-of-type {\n",
       "        vertical-align: middle;\n",
       "    }\n",
       "\n",
       "    .dataframe tbody tr th {\n",
       "        vertical-align: top;\n",
       "    }\n",
       "\n",
       "    .dataframe thead th {\n",
       "        text-align: right;\n",
       "    }\n",
       "</style>\n",
       "<table border=\"1\" class=\"dataframe\">\n",
       "  <thead>\n",
       "    <tr style=\"text-align: right;\">\n",
       "      <th></th>\n",
       "      <th>Time</th>\n",
       "      <th>P out bar</th>\n",
       "      <th>P in bar</th>\n",
       "      <th>Q  L/M</th>\n",
       "      <th>Dynamic Pressure</th>\n",
       "    </tr>\n",
       "  </thead>\n",
       "  <tbody>\n",
       "    <tr>\n",
       "      <th>0</th>\n",
       "      <td>0.000000</td>\n",
       "      <td>0.165204</td>\n",
       "      <td>-0.616328</td>\n",
       "      <td>27.839285</td>\n",
       "      <td>0.024410</td>\n",
       "    </tr>\n",
       "    <tr>\n",
       "      <th>1</th>\n",
       "      <td>0.000098</td>\n",
       "      <td>0.371800</td>\n",
       "      <td>-0.616328</td>\n",
       "      <td>27.839285</td>\n",
       "      <td>0.018997</td>\n",
       "    </tr>\n",
       "    <tr>\n",
       "      <th>2</th>\n",
       "      <td>0.000195</td>\n",
       "      <td>0.371800</td>\n",
       "      <td>-0.616328</td>\n",
       "      <td>27.839285</td>\n",
       "      <td>0.016745</td>\n",
       "    </tr>\n",
       "    <tr>\n",
       "      <th>3</th>\n",
       "      <td>0.000293</td>\n",
       "      <td>0.371800</td>\n",
       "      <td>-0.616328</td>\n",
       "      <td>27.839285</td>\n",
       "      <td>0.022920</td>\n",
       "    </tr>\n",
       "    <tr>\n",
       "      <th>4</th>\n",
       "      <td>0.000391</td>\n",
       "      <td>0.371800</td>\n",
       "      <td>-0.616328</td>\n",
       "      <td>27.839285</td>\n",
       "      <td>0.010825</td>\n",
       "    </tr>\n",
       "    <tr>\n",
       "      <th>...</th>\n",
       "      <td>...</td>\n",
       "      <td>...</td>\n",
       "      <td>...</td>\n",
       "      <td>...</td>\n",
       "      <td>...</td>\n",
       "    </tr>\n",
       "    <tr>\n",
       "      <th>1048571</th>\n",
       "      <td>102.399512</td>\n",
       "      <td>0.215623</td>\n",
       "      <td>-0.624159</td>\n",
       "      <td>27.789128</td>\n",
       "      <td>0.019324</td>\n",
       "    </tr>\n",
       "    <tr>\n",
       "      <th>1048572</th>\n",
       "      <td>102.399609</td>\n",
       "      <td>0.215623</td>\n",
       "      <td>-0.624159</td>\n",
       "      <td>27.789128</td>\n",
       "      <td>0.009372</td>\n",
       "    </tr>\n",
       "    <tr>\n",
       "      <th>1048573</th>\n",
       "      <td>102.399707</td>\n",
       "      <td>0.215623</td>\n",
       "      <td>-0.624159</td>\n",
       "      <td>27.789128</td>\n",
       "      <td>0.013077</td>\n",
       "    </tr>\n",
       "    <tr>\n",
       "      <th>1048574</th>\n",
       "      <td>102.399805</td>\n",
       "      <td>0.215623</td>\n",
       "      <td>-0.624159</td>\n",
       "      <td>27.789128</td>\n",
       "      <td>0.018344</td>\n",
       "    </tr>\n",
       "    <tr>\n",
       "      <th>1048575</th>\n",
       "      <td>102.399902</td>\n",
       "      <td>0.215623</td>\n",
       "      <td>-0.624159</td>\n",
       "      <td>27.789128</td>\n",
       "      <td>0.009118</td>\n",
       "    </tr>\n",
       "  </tbody>\n",
       "</table>\n",
       "<p>1048576 rows × 5 columns</p>\n",
       "</div>"
      ],
      "text/plain": [
       "              Time   P out bar  P in bar     Q  L/M  Dynamic Pressure\n",
       "0          0.000000   0.165204 -0.616328  27.839285          0.024410\n",
       "1          0.000098   0.371800 -0.616328  27.839285          0.018997\n",
       "2          0.000195   0.371800 -0.616328  27.839285          0.016745\n",
       "3          0.000293   0.371800 -0.616328  27.839285          0.022920\n",
       "4          0.000391   0.371800 -0.616328  27.839285          0.010825\n",
       "...             ...        ...       ...        ...               ...\n",
       "1048571  102.399512   0.215623 -0.624159  27.789128          0.019324\n",
       "1048572  102.399609   0.215623 -0.624159  27.789128          0.009372\n",
       "1048573  102.399707   0.215623 -0.624159  27.789128          0.013077\n",
       "1048574  102.399805   0.215623 -0.624159  27.789128          0.018344\n",
       "1048575  102.399902   0.215623 -0.624159  27.789128          0.009118\n",
       "\n",
       "[1048576 rows x 5 columns]"
      ]
     },
     "execution_count": 6,
     "metadata": {},
     "output_type": "execute_result"
    }
   ],
   "source": [
    "Cavitation_DP=pd.read_csv(\"Cavitation_DP.csv\")\n",
    "Cavitation_DP=Cavitation_DP.drop(columns=['Unnamed: 0'])\n",
    "Cavitation_DP"
   ]
  },
  {
   "cell_type": "code",
   "execution_count": 7,
   "metadata": {},
   "outputs": [
    {
     "data": {
      "text/plain": [
       "0            0.000000\n",
       "1            0.000098\n",
       "2            0.000195\n",
       "3            0.000293\n",
       "4            0.000391\n",
       "              ...    \n",
       "1048571    102.399512\n",
       "1048572    102.399609\n",
       "1048573    102.399707\n",
       "1048574    102.399805\n",
       "1048575    102.399902\n",
       "Name: Time , Length: 1048576, dtype: float64"
      ]
     },
     "execution_count": 7,
     "metadata": {},
     "output_type": "execute_result"
    }
   ],
   "source": [
    "Time_cav= Cavitation_DP['Time ']\n",
    "Time_cav"
   ]
  },
  {
   "cell_type": "code",
   "execution_count": 8,
   "metadata": {},
   "outputs": [
    {
     "data": {
      "text/html": [
       "<div>\n",
       "<style scoped>\n",
       "    .dataframe tbody tr th:only-of-type {\n",
       "        vertical-align: middle;\n",
       "    }\n",
       "\n",
       "    .dataframe tbody tr th {\n",
       "        vertical-align: top;\n",
       "    }\n",
       "\n",
       "    .dataframe thead th {\n",
       "        text-align: right;\n",
       "    }\n",
       "</style>\n",
       "<table border=\"1\" class=\"dataframe\">\n",
       "  <thead>\n",
       "    <tr style=\"text-align: right;\">\n",
       "      <th></th>\n",
       "      <th>P out bar</th>\n",
       "      <th>P in bar</th>\n",
       "      <th>Q  L/M</th>\n",
       "      <th>Dynamic Pressure</th>\n",
       "    </tr>\n",
       "  </thead>\n",
       "  <tbody>\n",
       "    <tr>\n",
       "      <th>0</th>\n",
       "      <td>0.165204</td>\n",
       "      <td>-0.616328</td>\n",
       "      <td>27.839285</td>\n",
       "      <td>0.024410</td>\n",
       "    </tr>\n",
       "    <tr>\n",
       "      <th>1</th>\n",
       "      <td>0.371800</td>\n",
       "      <td>-0.616328</td>\n",
       "      <td>27.839285</td>\n",
       "      <td>0.018997</td>\n",
       "    </tr>\n",
       "    <tr>\n",
       "      <th>2</th>\n",
       "      <td>0.371800</td>\n",
       "      <td>-0.616328</td>\n",
       "      <td>27.839285</td>\n",
       "      <td>0.016745</td>\n",
       "    </tr>\n",
       "    <tr>\n",
       "      <th>3</th>\n",
       "      <td>0.371800</td>\n",
       "      <td>-0.616328</td>\n",
       "      <td>27.839285</td>\n",
       "      <td>0.022920</td>\n",
       "    </tr>\n",
       "    <tr>\n",
       "      <th>4</th>\n",
       "      <td>0.371800</td>\n",
       "      <td>-0.616328</td>\n",
       "      <td>27.839285</td>\n",
       "      <td>0.010825</td>\n",
       "    </tr>\n",
       "    <tr>\n",
       "      <th>...</th>\n",
       "      <td>...</td>\n",
       "      <td>...</td>\n",
       "      <td>...</td>\n",
       "      <td>...</td>\n",
       "    </tr>\n",
       "    <tr>\n",
       "      <th>1048571</th>\n",
       "      <td>0.215623</td>\n",
       "      <td>-0.624159</td>\n",
       "      <td>27.789128</td>\n",
       "      <td>0.019324</td>\n",
       "    </tr>\n",
       "    <tr>\n",
       "      <th>1048572</th>\n",
       "      <td>0.215623</td>\n",
       "      <td>-0.624159</td>\n",
       "      <td>27.789128</td>\n",
       "      <td>0.009372</td>\n",
       "    </tr>\n",
       "    <tr>\n",
       "      <th>1048573</th>\n",
       "      <td>0.215623</td>\n",
       "      <td>-0.624159</td>\n",
       "      <td>27.789128</td>\n",
       "      <td>0.013077</td>\n",
       "    </tr>\n",
       "    <tr>\n",
       "      <th>1048574</th>\n",
       "      <td>0.215623</td>\n",
       "      <td>-0.624159</td>\n",
       "      <td>27.789128</td>\n",
       "      <td>0.018344</td>\n",
       "    </tr>\n",
       "    <tr>\n",
       "      <th>1048575</th>\n",
       "      <td>0.215623</td>\n",
       "      <td>-0.624159</td>\n",
       "      <td>27.789128</td>\n",
       "      <td>0.009118</td>\n",
       "    </tr>\n",
       "  </tbody>\n",
       "</table>\n",
       "<p>1048576 rows × 4 columns</p>\n",
       "</div>"
      ],
      "text/plain": [
       "         P out bar  P in bar     Q  L/M  Dynamic Pressure\n",
       "0         0.165204 -0.616328  27.839285          0.024410\n",
       "1         0.371800 -0.616328  27.839285          0.018997\n",
       "2         0.371800 -0.616328  27.839285          0.016745\n",
       "3         0.371800 -0.616328  27.839285          0.022920\n",
       "4         0.371800 -0.616328  27.839285          0.010825\n",
       "...            ...       ...        ...               ...\n",
       "1048571   0.215623 -0.624159  27.789128          0.019324\n",
       "1048572   0.215623 -0.624159  27.789128          0.009372\n",
       "1048573   0.215623 -0.624159  27.789128          0.013077\n",
       "1048574   0.215623 -0.624159  27.789128          0.018344\n",
       "1048575   0.215623 -0.624159  27.789128          0.009118\n",
       "\n",
       "[1048576 rows x 4 columns]"
      ]
     },
     "execution_count": 8,
     "metadata": {},
     "output_type": "execute_result"
    }
   ],
   "source": [
    "Cavitation_DP=Cavitation_DP.drop(columns=['Time '])\n",
    "Cavitation_DP"
   ]
  },
  {
   "cell_type": "code",
   "execution_count": 9,
   "metadata": {},
   "outputs": [],
   "source": [
    "for col in Cavitation_DP:\n",
    "    Cavitation_DP[col] = (Cavitation_DP[col]-Cavitation_DP[col].min())/(Cavitation_DP[col].max()-Cavitation_DP[col].min())"
   ]
  },
  {
   "cell_type": "code",
   "execution_count": 10,
   "metadata": {},
   "outputs": [],
   "source": [
    "scaler = StandardScaler()\n",
    "\n",
    "scaler.fit(Normal_DP)\n",
    "Normal_DP = scaler.transform(Normal_DP)\n",
    "\n",
    "scaler.fit(Cavitation_DP)\n",
    "Cavitation_DP = scaler.transform(Cavitation_DP)\n"
   ]
  },
  {
   "cell_type": "code",
   "execution_count": 11,
   "metadata": {
    "id": "Vf9q-P8JSJae"
   },
   "outputs": [],
   "source": [
    "df=Normal_DP\n",
    "Cavdf=Cavitation_DP\n"
   ]
  },
  {
   "cell_type": "code",
   "execution_count": 12,
   "metadata": {},
   "outputs": [],
   "source": [
    "df = pd.DataFrame(df, columns =['P out bar', 'P in bar', 'Q  L/M', 'Dynamic Pressure'])\n",
    "Cavdf = pd.DataFrame(Cavdf, columns =[ 'P out bar', 'P in bar', 'Q  L/M', 'Dynamic Pressure'])\n"
   ]
  },
  {
   "cell_type": "code",
   "execution_count": 13,
   "metadata": {},
   "outputs": [
    {
     "data": {
      "text/plain": [
       "array([[-0.40335386],\n",
       "       [-1.10334914],\n",
       "       [-1.08180167],\n",
       "       ...,\n",
       "       [ 0.12411918],\n",
       "       [ 0.07372374],\n",
       "       [ 0.16199948]])"
      ]
     },
     "execution_count": 13,
     "metadata": {},
     "output_type": "execute_result"
    }
   ],
   "source": [
    "pca = PCA(n_components =1)\n",
    "pca.fit(Cavdf)\n",
    "Cavdf = pca.transform(Cavdf)\n",
    "Cavdf"
   ]
  },
  {
   "cell_type": "code",
   "execution_count": 14,
   "metadata": {},
   "outputs": [
    {
     "data": {
      "text/plain": [
       "(1048576, 1)"
      ]
     },
     "execution_count": 14,
     "metadata": {},
     "output_type": "execute_result"
    }
   ],
   "source": [
    "Cavdf.shape"
   ]
  },
  {
   "cell_type": "code",
   "execution_count": 15,
   "metadata": {},
   "outputs": [
    {
     "data": {
      "text/html": [
       "<div>\n",
       "<style scoped>\n",
       "    .dataframe tbody tr th:only-of-type {\n",
       "        vertical-align: middle;\n",
       "    }\n",
       "\n",
       "    .dataframe tbody tr th {\n",
       "        vertical-align: top;\n",
       "    }\n",
       "\n",
       "    .dataframe thead th {\n",
       "        text-align: right;\n",
       "    }\n",
       "</style>\n",
       "<table border=\"1\" class=\"dataframe\">\n",
       "  <thead>\n",
       "    <tr style=\"text-align: right;\">\n",
       "      <th></th>\n",
       "      <th>0</th>\n",
       "    </tr>\n",
       "  </thead>\n",
       "  <tbody>\n",
       "    <tr>\n",
       "      <th>0</th>\n",
       "      <td>-0.403354</td>\n",
       "    </tr>\n",
       "    <tr>\n",
       "      <th>1</th>\n",
       "      <td>-1.103349</td>\n",
       "    </tr>\n",
       "    <tr>\n",
       "      <th>2</th>\n",
       "      <td>-1.081802</td>\n",
       "    </tr>\n",
       "    <tr>\n",
       "      <th>3</th>\n",
       "      <td>-1.140885</td>\n",
       "    </tr>\n",
       "    <tr>\n",
       "      <th>4</th>\n",
       "      <td>-1.025158</td>\n",
       "    </tr>\n",
       "    <tr>\n",
       "      <th>...</th>\n",
       "      <td>...</td>\n",
       "    </tr>\n",
       "    <tr>\n",
       "      <th>1048571</th>\n",
       "      <td>0.064347</td>\n",
       "    </tr>\n",
       "    <tr>\n",
       "      <th>1048572</th>\n",
       "      <td>0.159569</td>\n",
       "    </tr>\n",
       "    <tr>\n",
       "      <th>1048573</th>\n",
       "      <td>0.124119</td>\n",
       "    </tr>\n",
       "    <tr>\n",
       "      <th>1048574</th>\n",
       "      <td>0.073724</td>\n",
       "    </tr>\n",
       "    <tr>\n",
       "      <th>1048575</th>\n",
       "      <td>0.161999</td>\n",
       "    </tr>\n",
       "  </tbody>\n",
       "</table>\n",
       "<p>1048576 rows × 1 columns</p>\n",
       "</div>"
      ],
      "text/plain": [
       "                0\n",
       "0       -0.403354\n",
       "1       -1.103349\n",
       "2       -1.081802\n",
       "3       -1.140885\n",
       "4       -1.025158\n",
       "...           ...\n",
       "1048571  0.064347\n",
       "1048572  0.159569\n",
       "1048573  0.124119\n",
       "1048574  0.073724\n",
       "1048575  0.161999\n",
       "\n",
       "[1048576 rows x 1 columns]"
      ]
     },
     "execution_count": 15,
     "metadata": {},
     "output_type": "execute_result"
    }
   ],
   "source": [
    "Cavdf = pd.DataFrame(Cavdf)\n",
    "Cavdf"
   ]
  },
  {
   "cell_type": "code",
   "execution_count": 16,
   "metadata": {},
   "outputs": [
    {
     "data": {
      "text/plain": [
       "array([[4.11893844],\n",
       "       [4.10290175],\n",
       "       [4.1078396 ],\n",
       "       ...,\n",
       "       [1.86483466],\n",
       "       [1.90802952],\n",
       "       [1.95245885]])"
      ]
     },
     "execution_count": 16,
     "metadata": {},
     "output_type": "execute_result"
    }
   ],
   "source": [
    "pca.fit(df)\n",
    "df = pca.transform(df)\n",
    "df"
   ]
  },
  {
   "cell_type": "code",
   "execution_count": 17,
   "metadata": {},
   "outputs": [
    {
     "data": {
      "text/html": [
       "<div>\n",
       "<style scoped>\n",
       "    .dataframe tbody tr th:only-of-type {\n",
       "        vertical-align: middle;\n",
       "    }\n",
       "\n",
       "    .dataframe tbody tr th {\n",
       "        vertical-align: top;\n",
       "    }\n",
       "\n",
       "    .dataframe thead th {\n",
       "        text-align: right;\n",
       "    }\n",
       "</style>\n",
       "<table border=\"1\" class=\"dataframe\">\n",
       "  <thead>\n",
       "    <tr style=\"text-align: right;\">\n",
       "      <th></th>\n",
       "      <th>0</th>\n",
       "    </tr>\n",
       "  </thead>\n",
       "  <tbody>\n",
       "    <tr>\n",
       "      <th>0</th>\n",
       "      <td>4.118938</td>\n",
       "    </tr>\n",
       "    <tr>\n",
       "      <th>1</th>\n",
       "      <td>4.102902</td>\n",
       "    </tr>\n",
       "    <tr>\n",
       "      <th>2</th>\n",
       "      <td>4.107840</td>\n",
       "    </tr>\n",
       "    <tr>\n",
       "      <th>3</th>\n",
       "      <td>4.024734</td>\n",
       "    </tr>\n",
       "    <tr>\n",
       "      <th>4</th>\n",
       "      <td>4.122642</td>\n",
       "    </tr>\n",
       "    <tr>\n",
       "      <th>...</th>\n",
       "      <td>...</td>\n",
       "    </tr>\n",
       "    <tr>\n",
       "      <th>919995</th>\n",
       "      <td>1.866477</td>\n",
       "    </tr>\n",
       "    <tr>\n",
       "      <th>919996</th>\n",
       "      <td>1.959039</td>\n",
       "    </tr>\n",
       "    <tr>\n",
       "      <th>919997</th>\n",
       "      <td>1.864835</td>\n",
       "    </tr>\n",
       "    <tr>\n",
       "      <th>919998</th>\n",
       "      <td>1.908030</td>\n",
       "    </tr>\n",
       "    <tr>\n",
       "      <th>919999</th>\n",
       "      <td>1.952459</td>\n",
       "    </tr>\n",
       "  </tbody>\n",
       "</table>\n",
       "<p>920000 rows × 1 columns</p>\n",
       "</div>"
      ],
      "text/plain": [
       "               0\n",
       "0       4.118938\n",
       "1       4.102902\n",
       "2       4.107840\n",
       "3       4.024734\n",
       "4       4.122642\n",
       "...          ...\n",
       "919995  1.866477\n",
       "919996  1.959039\n",
       "919997  1.864835\n",
       "919998  1.908030\n",
       "919999  1.952459\n",
       "\n",
       "[920000 rows x 1 columns]"
      ]
     },
     "execution_count": 17,
     "metadata": {},
     "output_type": "execute_result"
    }
   ],
   "source": [
    "df = pd.DataFrame(df)\n",
    "df"
   ]
  },
  {
   "cell_type": "code",
   "execution_count": 18,
   "metadata": {},
   "outputs": [],
   "source": [
    "\n",
    "X_Norm = fft(df)\n",
    "N = len(df)\n",
    "n = np.arange(N)\n",
    "sr = 1 / (60*60)\n",
    "T = N/sr\n",
    "freq = n/T \n",
    "# Get the one-sided specturm\n",
    "n_oneside = N//2\n",
    "# get the one side frequency\n",
    "f_oneside = freq[:n_oneside]"
   ]
  },
  {
   "cell_type": "code",
   "execution_count": 19,
   "metadata": {},
   "outputs": [
    {
     "data": {
      "image/png": "[encoded data removed]",
      "text/plain": [
       "<Figure size 864x432 with 1 Axes>"
      ]
     },
     "metadata": {
      "needs_background": "light"
     },
     "output_type": "display_data"
    }
   ],
   "source": [
    "plt.figure(figsize = (12, 6))\n",
    "plt.plot(f_oneside, np.abs(X_Norm[:n_oneside]), 'b')\n",
    "plt.xlabel('Freq')\n",
    "plt.ylabel('FFT Amplitude')\n",
    "plt.show()"
   ]
  },
  {
   "cell_type": "code",
   "execution_count": 20,
   "metadata": {},
   "outputs": [],
   "source": [
    "X_cav = fft(Cavdf)\n",
    "N = len(Cavdf)\n",
    "n = np.arange(N)\n",
    "sr = 1 / (60*60)\n",
    "T = N/sr\n",
    "freq = n/T \n",
    "# Get the one-sided specturm\n",
    "n_oneside = N//2\n",
    "# get the one side frequency\n",
    "f_oneside = freq[:n_oneside]"
   ]
  },
  {
   "cell_type": "code",
   "execution_count": 21,
   "metadata": {},
   "outputs": [
    {
     "data": {
      "image/png": "[encoded data removed]",
      "text/plain": [
       "<Figure size 864x432 with 1 Axes>"
      ]
     },
     "metadata": {
      "needs_background": "light"
     },
     "output_type": "display_data"
    }
   ],
   "source": [
    "plt.figure(figsize = (12, 6))\n",
    "plt.plot(f_oneside, np.abs(X_Norm[:n_oneside]), 'b')\n",
    "plt.xlabel('Freq')\n",
    "plt.ylabel('FFT Amplitude')\n",
    "plt.show()"
   ]
  },
  {
   "cell_type": "code",
   "execution_count": 22,
   "metadata": {},
   "outputs": [],
   "source": [
    "X_Norm = X_Norm.real.astype(np.float32)\n",
    "X_cav = X_cav.real.astype(np.float32)"
   ]
  },
  {
   "cell_type": "code",
   "execution_count": 23,
   "metadata": {},
   "outputs": [],
   "source": [
    "X_train, X_test=train_test_split(X_Norm, test_size=0.3, random_state=1)\n"
   ]
  },
  {
   "cell_type": "code",
   "execution_count": 24,
   "metadata": {},
   "outputs": [],
   "source": [
    "k = 5\n",
    "kf = KFold(n_splits=k, random_state=1,shuffle=True)\n",
    "X = X_Norm\n",
    "for train_index , test_index in kf.split(X):\n",
    "    X_train , X_test = X[train_index,:],X[test_index,:]\n",
    "    ss=preprocessing.StandardScaler()\n",
    "    X_train = ss.fit_transform(X_train)\n",
    "    X_test = ss.fit_transform(X_test)\n"
   ]
  },
  {
   "cell_type": "code",
   "execution_count": 25,
   "metadata": {
    "id": "rl9QY718uK74"
   },
   "outputs": [
    {
     "data": {
      "text/plain": [
       "OneClassSVM(gamma=0.3, nu=0.01)"
      ]
     },
     "execution_count": 25,
     "metadata": {},
     "output_type": "execute_result"
    }
   ],
   "source": [
    "oneclass_SVM = OneClassSVM(kernel='rbf', gamma=0.3, nu=0.01)\n",
    "oneclass_SVM.fit(X_train)"
   ]
  },
  {
   "cell_type": "code",
   "execution_count": 26,
   "metadata": {
    "colab": {
     "base_uri": "https://localhost:8080/"
    },
    "id": "9-JFR5lAuK74",
    "outputId": "4c0c1cee-f665-4c13-947b-e9b8f44df730"
   },
   "outputs": [
    {
     "name": "stdout",
     "output_type": "stream",
     "text": [
      "Accuracy: 98.98%\n"
     ]
    }
   ],
   "source": [
    "prediction= oneclass_SVM.predict(X_test)\n",
    "score =0\n",
    "for f in range (0,X_test.shape[0]):\n",
    "    if(prediction[f]==1):\n",
    "        score=score+1\n",
    "\n",
    "accuracy = score / X_test.shape[0]\n",
    "print(\"Accuracy: {:.2%}\".format(accuracy))\n"
   ]
  },
  {
   "cell_type": "code",
   "execution_count": 27,
   "metadata": {
    "colab": {
     "base_uri": "https://localhost:8080/"
    },
    "id": "dN28N0tjuK77",
    "outputId": "3f1f01e9-e09b-42f3-ecea-08a92834855c"
   },
   "outputs": [
    {
     "name": "stdout",
     "output_type": "stream",
     "text": [
      "Accuracy: 97.88%\n"
     ]
    }
   ],
   "source": [
    "\n",
    "prediction= oneclass_SVM.predict(Cavdf)\n",
    "score =0\n",
    "for f in range (0,Cavdf.shape[0]): \n",
    "    if(prediction[f]==1):\n",
    "        score=score+1\n",
    "\n",
    "accuracy = score / Cavdf.shape[0]\n",
    "print(\"Accuracy: {:.2%}\".format(accuracy))\n"
   ]
  },
  {
   "cell_type": "code",
   "execution_count": 28,
   "metadata": {},
   "outputs": [
    {
     "data": {
      "text/html": [
       "<div>\n",
       "<style scoped>\n",
       "    .dataframe tbody tr th:only-of-type {\n",
       "        vertical-align: middle;\n",
       "    }\n",
       "\n",
       "    .dataframe tbody tr th {\n",
       "        vertical-align: top;\n",
       "    }\n",
       "\n",
       "    .dataframe thead th {\n",
       "        text-align: right;\n",
       "    }\n",
       "</style>\n",
       "<table border=\"1\" class=\"dataframe\">\n",
       "  <thead>\n",
       "    <tr style=\"text-align: right;\">\n",
       "      <th></th>\n",
       "      <th>0</th>\n",
       "    </tr>\n",
       "  </thead>\n",
       "  <tbody>\n",
       "    <tr>\n",
       "      <th>0</th>\n",
       "      <td>-0.403354</td>\n",
       "    </tr>\n",
       "    <tr>\n",
       "      <th>1</th>\n",
       "      <td>-1.103349</td>\n",
       "    </tr>\n",
       "    <tr>\n",
       "      <th>2</th>\n",
       "      <td>-1.081802</td>\n",
       "    </tr>\n",
       "    <tr>\n",
       "      <th>3</th>\n",
       "      <td>-1.140885</td>\n",
       "    </tr>\n",
       "    <tr>\n",
       "      <th>4</th>\n",
       "      <td>-1.025158</td>\n",
       "    </tr>\n",
       "    <tr>\n",
       "      <th>...</th>\n",
       "      <td>...</td>\n",
       "    </tr>\n",
       "    <tr>\n",
       "      <th>1048571</th>\n",
       "      <td>0.064347</td>\n",
       "    </tr>\n",
       "    <tr>\n",
       "      <th>1048572</th>\n",
       "      <td>0.159569</td>\n",
       "    </tr>\n",
       "    <tr>\n",
       "      <th>1048573</th>\n",
       "      <td>0.124119</td>\n",
       "    </tr>\n",
       "    <tr>\n",
       "      <th>1048574</th>\n",
       "      <td>0.073724</td>\n",
       "    </tr>\n",
       "    <tr>\n",
       "      <th>1048575</th>\n",
       "      <td>0.161999</td>\n",
       "    </tr>\n",
       "  </tbody>\n",
       "</table>\n",
       "<p>1048576 rows × 1 columns</p>\n",
       "</div>"
      ],
      "text/plain": [
       "                0\n",
       "0       -0.403354\n",
       "1       -1.103349\n",
       "2       -1.081802\n",
       "3       -1.140885\n",
       "4       -1.025158\n",
       "...           ...\n",
       "1048571  0.064347\n",
       "1048572  0.159569\n",
       "1048573  0.124119\n",
       "1048574  0.073724\n",
       "1048575  0.161999\n",
       "\n",
       "[1048576 rows x 1 columns]"
      ]
     },
     "execution_count": 28,
     "metadata": {},
     "output_type": "execute_result"
    }
   ],
   "source": [
    "df_test=Cavdf\n",
    "df_test"
   ]
  },
  {
   "cell_type": "code",
   "execution_count": 29,
   "metadata": {},
   "outputs": [],
   "source": [
    "prediction= oneclass_SVM.predict(df_test)\n",
    "score=oneclass_SVM.score_samples(df_test)\n",
    "prediction = [1 if i==-1 else 0 for i in prediction]\n",
    "df_test['y_test'] = score\n",
    "df_test['one_class_svm_prediction'] = prediction"
   ]
  },
  {
   "cell_type": "code",
   "execution_count": 30,
   "metadata": {
    "scrolled": true
   },
   "outputs": [
    {
     "data": {
      "image/png": "[encoded data removed]",
      "text/plain": [
       "<Figure size 1080x432 with 1 Axes>"
      ]
     },
     "metadata": {
      "needs_background": "light"
     },
     "output_type": "display_data"
    }
   ],
   "source": [
    "fig, ax = plt.subplots(figsize=(15,6))\n",
    "\n",
    "a = df_test.loc[df_test['one_class_svm_prediction'] == 1, [0]] #anomaly\n",
    "\n",
    "ax.plot(df_test.index, df_test[0], color='blue')\n",
    "ax.scatter(a.index, a[0], color='red')\n",
    "sb.despine()\n",
    "plt.title(\"Anomalies in  0\")\n",
    "\n",
    "plt.show()"
   ]
  },
  {
   "cell_type": "markdown",
   "metadata": {},
   "source": [
    "# Vibration"
   ]
  },
  {
   "cell_type": "code",
   "execution_count": 31,
   "metadata": {},
   "outputs": [
    {
     "data": {
      "text/html": [
       "<div>\n",
       "<style scoped>\n",
       "    .dataframe tbody tr th:only-of-type {\n",
       "        vertical-align: middle;\n",
       "    }\n",
       "\n",
       "    .dataframe tbody tr th {\n",
       "        vertical-align: top;\n",
       "    }\n",
       "\n",
       "    .dataframe thead th {\n",
       "        text-align: right;\n",
       "    }\n",
       "</style>\n",
       "<table border=\"1\" class=\"dataframe\">\n",
       "  <thead>\n",
       "    <tr style=\"text-align: right;\">\n",
       "      <th></th>\n",
       "      <th>Time</th>\n",
       "      <th>P out bar</th>\n",
       "      <th>P in bar</th>\n",
       "      <th>Q  L/M</th>\n",
       "      <th>Vibration 1</th>\n",
       "      <th>Vibration 2</th>\n",
       "    </tr>\n",
       "  </thead>\n",
       "  <tbody>\n",
       "    <tr>\n",
       "      <th>0</th>\n",
       "      <td>0.000000</td>\n",
       "      <td>1.161289</td>\n",
       "      <td>-0.084085</td>\n",
       "      <td>49.443383</td>\n",
       "      <td>0.897711</td>\n",
       "      <td>0.374315</td>\n",
       "    </tr>\n",
       "    <tr>\n",
       "      <th>1</th>\n",
       "      <td>0.000098</td>\n",
       "      <td>1.161289</td>\n",
       "      <td>-0.084085</td>\n",
       "      <td>49.443383</td>\n",
       "      <td>-0.612374</td>\n",
       "      <td>1.983866</td>\n",
       "    </tr>\n",
       "    <tr>\n",
       "      <th>2</th>\n",
       "      <td>0.000195</td>\n",
       "      <td>1.161289</td>\n",
       "      <td>-0.084085</td>\n",
       "      <td>49.443383</td>\n",
       "      <td>-0.699269</td>\n",
       "      <td>2.101856</td>\n",
       "    </tr>\n",
       "    <tr>\n",
       "      <th>3</th>\n",
       "      <td>0.000293</td>\n",
       "      <td>1.161289</td>\n",
       "      <td>-0.084085</td>\n",
       "      <td>49.443383</td>\n",
       "      <td>1.121377</td>\n",
       "      <td>1.053456</td>\n",
       "    </tr>\n",
       "    <tr>\n",
       "      <th>4</th>\n",
       "      <td>0.000391</td>\n",
       "      <td>1.161289</td>\n",
       "      <td>-0.084085</td>\n",
       "      <td>49.443383</td>\n",
       "      <td>-0.672813</td>\n",
       "      <td>-2.743689</td>\n",
       "    </tr>\n",
       "    <tr>\n",
       "      <th>...</th>\n",
       "      <td>...</td>\n",
       "      <td>...</td>\n",
       "      <td>...</td>\n",
       "      <td>...</td>\n",
       "      <td>...</td>\n",
       "      <td>...</td>\n",
       "    </tr>\n",
       "    <tr>\n",
       "      <th>919995</th>\n",
       "      <td>89.843262</td>\n",
       "      <td>0.593152</td>\n",
       "      <td>-0.090887</td>\n",
       "      <td>49.371344</td>\n",
       "      <td>-1.833754</td>\n",
       "      <td>-1.940224</td>\n",
       "    </tr>\n",
       "    <tr>\n",
       "      <th>919996</th>\n",
       "      <td>89.843359</td>\n",
       "      <td>0.593152</td>\n",
       "      <td>-0.090887</td>\n",
       "      <td>49.371344</td>\n",
       "      <td>1.000499</td>\n",
       "      <td>1.311315</td>\n",
       "    </tr>\n",
       "    <tr>\n",
       "      <th>919997</th>\n",
       "      <td>89.843457</td>\n",
       "      <td>0.593152</td>\n",
       "      <td>-0.090887</td>\n",
       "      <td>49.371344</td>\n",
       "      <td>-0.302599</td>\n",
       "      <td>0.097853</td>\n",
       "    </tr>\n",
       "    <tr>\n",
       "      <th>919998</th>\n",
       "      <td>89.843555</td>\n",
       "      <td>0.593152</td>\n",
       "      <td>-0.090887</td>\n",
       "      <td>49.371344</td>\n",
       "      <td>-1.227691</td>\n",
       "      <td>3.129577</td>\n",
       "    </tr>\n",
       "    <tr>\n",
       "      <th>919999</th>\n",
       "      <td>89.843652</td>\n",
       "      <td>0.593152</td>\n",
       "      <td>-0.090887</td>\n",
       "      <td>49.371344</td>\n",
       "      <td>1.409612</td>\n",
       "      <td>2.741606</td>\n",
       "    </tr>\n",
       "  </tbody>\n",
       "</table>\n",
       "<p>920000 rows × 6 columns</p>\n",
       "</div>"
      ],
      "text/plain": [
       "            Time   P out bar  P in bar     Q  L/M  Vibration 1  Vibration 2\n",
       "0        0.000000   1.161289 -0.084085  49.443383     0.897711     0.374315\n",
       "1        0.000098   1.161289 -0.084085  49.443383    -0.612374     1.983866\n",
       "2        0.000195   1.161289 -0.084085  49.443383    -0.699269     2.101856\n",
       "3        0.000293   1.161289 -0.084085  49.443383     1.121377     1.053456\n",
       "4        0.000391   1.161289 -0.084085  49.443383    -0.672813    -2.743689\n",
       "...           ...        ...       ...        ...          ...          ...\n",
       "919995  89.843262   0.593152 -0.090887  49.371344    -1.833754    -1.940224\n",
       "919996  89.843359   0.593152 -0.090887  49.371344     1.000499     1.311315\n",
       "919997  89.843457   0.593152 -0.090887  49.371344    -0.302599     0.097853\n",
       "919998  89.843555   0.593152 -0.090887  49.371344    -1.227691     3.129577\n",
       "919999  89.843652   0.593152 -0.090887  49.371344     1.409612     2.741606\n",
       "\n",
       "[920000 rows x 6 columns]"
      ]
     },
     "execution_count": 31,
     "metadata": {},
     "output_type": "execute_result"
    }
   ],
   "source": [
    "Normal_Vib=pd.read_csv(\"Normal_Vib.csv\")\n",
    "Normal_Vib=Normal_Vib.drop(columns=['Unnamed: 0'])\n",
    "Normal_Vib"
   ]
  },
  {
   "cell_type": "code",
   "execution_count": 32,
   "metadata": {},
   "outputs": [
    {
     "data": {
      "text/plain": [
       "0          0.000000\n",
       "1          0.000098\n",
       "2          0.000195\n",
       "3          0.000293\n",
       "4          0.000391\n",
       "            ...    \n",
       "919995    89.843262\n",
       "919996    89.843359\n",
       "919997    89.843457\n",
       "919998    89.843555\n",
       "919999    89.843652\n",
       "Name: Time , Length: 920000, dtype: float64"
      ]
     },
     "execution_count": 32,
     "metadata": {},
     "output_type": "execute_result"
    }
   ],
   "source": [
    "Time_norm= Normal_Vib['Time ']\n",
    "Time_norm"
   ]
  },
  {
   "cell_type": "code",
   "execution_count": 33,
   "metadata": {},
   "outputs": [
    {
     "data": {
      "text/html": [
       "<div>\n",
       "<style scoped>\n",
       "    .dataframe tbody tr th:only-of-type {\n",
       "        vertical-align: middle;\n",
       "    }\n",
       "\n",
       "    .dataframe tbody tr th {\n",
       "        vertical-align: top;\n",
       "    }\n",
       "\n",
       "    .dataframe thead th {\n",
       "        text-align: right;\n",
       "    }\n",
       "</style>\n",
       "<table border=\"1\" class=\"dataframe\">\n",
       "  <thead>\n",
       "    <tr style=\"text-align: right;\">\n",
       "      <th></th>\n",
       "      <th>P out bar</th>\n",
       "      <th>P in bar</th>\n",
       "      <th>Q  L/M</th>\n",
       "      <th>Vibration 1</th>\n",
       "      <th>Vibration 2</th>\n",
       "    </tr>\n",
       "  </thead>\n",
       "  <tbody>\n",
       "    <tr>\n",
       "      <th>0</th>\n",
       "      <td>1.161289</td>\n",
       "      <td>-0.084085</td>\n",
       "      <td>49.443383</td>\n",
       "      <td>0.897711</td>\n",
       "      <td>0.374315</td>\n",
       "    </tr>\n",
       "    <tr>\n",
       "      <th>1</th>\n",
       "      <td>1.161289</td>\n",
       "      <td>-0.084085</td>\n",
       "      <td>49.443383</td>\n",
       "      <td>-0.612374</td>\n",
       "      <td>1.983866</td>\n",
       "    </tr>\n",
       "    <tr>\n",
       "      <th>2</th>\n",
       "      <td>1.161289</td>\n",
       "      <td>-0.084085</td>\n",
       "      <td>49.443383</td>\n",
       "      <td>-0.699269</td>\n",
       "      <td>2.101856</td>\n",
       "    </tr>\n",
       "    <tr>\n",
       "      <th>3</th>\n",
       "      <td>1.161289</td>\n",
       "      <td>-0.084085</td>\n",
       "      <td>49.443383</td>\n",
       "      <td>1.121377</td>\n",
       "      <td>1.053456</td>\n",
       "    </tr>\n",
       "    <tr>\n",
       "      <th>4</th>\n",
       "      <td>1.161289</td>\n",
       "      <td>-0.084085</td>\n",
       "      <td>49.443383</td>\n",
       "      <td>-0.672813</td>\n",
       "      <td>-2.743689</td>\n",
       "    </tr>\n",
       "    <tr>\n",
       "      <th>...</th>\n",
       "      <td>...</td>\n",
       "      <td>...</td>\n",
       "      <td>...</td>\n",
       "      <td>...</td>\n",
       "      <td>...</td>\n",
       "    </tr>\n",
       "    <tr>\n",
       "      <th>919995</th>\n",
       "      <td>0.593152</td>\n",
       "      <td>-0.090887</td>\n",
       "      <td>49.371344</td>\n",
       "      <td>-1.833754</td>\n",
       "      <td>-1.940224</td>\n",
       "    </tr>\n",
       "    <tr>\n",
       "      <th>919996</th>\n",
       "      <td>0.593152</td>\n",
       "      <td>-0.090887</td>\n",
       "      <td>49.371344</td>\n",
       "      <td>1.000499</td>\n",
       "      <td>1.311315</td>\n",
       "    </tr>\n",
       "    <tr>\n",
       "      <th>919997</th>\n",
       "      <td>0.593152</td>\n",
       "      <td>-0.090887</td>\n",
       "      <td>49.371344</td>\n",
       "      <td>-0.302599</td>\n",
       "      <td>0.097853</td>\n",
       "    </tr>\n",
       "    <tr>\n",
       "      <th>919998</th>\n",
       "      <td>0.593152</td>\n",
       "      <td>-0.090887</td>\n",
       "      <td>49.371344</td>\n",
       "      <td>-1.227691</td>\n",
       "      <td>3.129577</td>\n",
       "    </tr>\n",
       "    <tr>\n",
       "      <th>919999</th>\n",
       "      <td>0.593152</td>\n",
       "      <td>-0.090887</td>\n",
       "      <td>49.371344</td>\n",
       "      <td>1.409612</td>\n",
       "      <td>2.741606</td>\n",
       "    </tr>\n",
       "  </tbody>\n",
       "</table>\n",
       "<p>920000 rows × 5 columns</p>\n",
       "</div>"
      ],
      "text/plain": [
       "        P out bar  P in bar     Q  L/M  Vibration 1  Vibration 2\n",
       "0        1.161289 -0.084085  49.443383     0.897711     0.374315\n",
       "1        1.161289 -0.084085  49.443383    -0.612374     1.983866\n",
       "2        1.161289 -0.084085  49.443383    -0.699269     2.101856\n",
       "3        1.161289 -0.084085  49.443383     1.121377     1.053456\n",
       "4        1.161289 -0.084085  49.443383    -0.672813    -2.743689\n",
       "...           ...       ...        ...          ...          ...\n",
       "919995   0.593152 -0.090887  49.371344    -1.833754    -1.940224\n",
       "919996   0.593152 -0.090887  49.371344     1.000499     1.311315\n",
       "919997   0.593152 -0.090887  49.371344    -0.302599     0.097853\n",
       "919998   0.593152 -0.090887  49.371344    -1.227691     3.129577\n",
       "919999   0.593152 -0.090887  49.371344     1.409612     2.741606\n",
       "\n",
       "[920000 rows x 5 columns]"
      ]
     },
     "execution_count": 33,
     "metadata": {},
     "output_type": "execute_result"
    }
   ],
   "source": [
    "Normal_Vib=Normal_Vib.drop(columns=['Time '])\n",
    "Normal_Vib"
   ]
  },
  {
   "cell_type": "code",
   "execution_count": 34,
   "metadata": {},
   "outputs": [],
   "source": [
    "for col in Normal_Vib:\n",
    "    Normal_Vib[col] = (Normal_Vib[col]-Normal_Vib[col].min())/(Normal_Vib[col].max()-Normal_Vib[col].min())"
   ]
  },
  {
   "cell_type": "code",
   "execution_count": 35,
   "metadata": {},
   "outputs": [
    {
     "data": {
      "text/html": [
       "<div>\n",
       "<style scoped>\n",
       "    .dataframe tbody tr th:only-of-type {\n",
       "        vertical-align: middle;\n",
       "    }\n",
       "\n",
       "    .dataframe tbody tr th {\n",
       "        vertical-align: top;\n",
       "    }\n",
       "\n",
       "    .dataframe thead th {\n",
       "        text-align: right;\n",
       "    }\n",
       "</style>\n",
       "<table border=\"1\" class=\"dataframe\">\n",
       "  <thead>\n",
       "    <tr style=\"text-align: right;\">\n",
       "      <th></th>\n",
       "      <th>Time</th>\n",
       "      <th>P out bar</th>\n",
       "      <th>P in bar</th>\n",
       "      <th>Q  L/M</th>\n",
       "      <th>Vibration 1</th>\n",
       "      <th>Vibration 2</th>\n",
       "    </tr>\n",
       "  </thead>\n",
       "  <tbody>\n",
       "    <tr>\n",
       "      <th>0</th>\n",
       "      <td>0.000000</td>\n",
       "      <td>0.165204</td>\n",
       "      <td>-0.616328</td>\n",
       "      <td>27.839285</td>\n",
       "      <td>0.283178</td>\n",
       "      <td>-0.124765</td>\n",
       "    </tr>\n",
       "    <tr>\n",
       "      <th>1</th>\n",
       "      <td>0.000098</td>\n",
       "      <td>0.371800</td>\n",
       "      <td>-0.616328</td>\n",
       "      <td>27.839285</td>\n",
       "      <td>-0.120759</td>\n",
       "      <td>-0.894264</td>\n",
       "    </tr>\n",
       "    <tr>\n",
       "      <th>2</th>\n",
       "      <td>0.000195</td>\n",
       "      <td>0.371800</td>\n",
       "      <td>-0.616328</td>\n",
       "      <td>27.839285</td>\n",
       "      <td>0.331279</td>\n",
       "      <td>0.257127</td>\n",
       "    </tr>\n",
       "    <tr>\n",
       "      <th>3</th>\n",
       "      <td>0.000293</td>\n",
       "      <td>0.371800</td>\n",
       "      <td>-0.616328</td>\n",
       "      <td>27.839285</td>\n",
       "      <td>0.509145</td>\n",
       "      <td>-0.061347</td>\n",
       "    </tr>\n",
       "    <tr>\n",
       "      <th>4</th>\n",
       "      <td>0.000391</td>\n",
       "      <td>0.371800</td>\n",
       "      <td>-0.616328</td>\n",
       "      <td>27.839285</td>\n",
       "      <td>0.419741</td>\n",
       "      <td>-1.516285</td>\n",
       "    </tr>\n",
       "    <tr>\n",
       "      <th>...</th>\n",
       "      <td>...</td>\n",
       "      <td>...</td>\n",
       "      <td>...</td>\n",
       "      <td>...</td>\n",
       "      <td>...</td>\n",
       "      <td>...</td>\n",
       "    </tr>\n",
       "    <tr>\n",
       "      <th>1048571</th>\n",
       "      <td>102.399512</td>\n",
       "      <td>0.215623</td>\n",
       "      <td>-0.624159</td>\n",
       "      <td>27.789128</td>\n",
       "      <td>-0.415425</td>\n",
       "      <td>-0.193316</td>\n",
       "    </tr>\n",
       "    <tr>\n",
       "      <th>1048572</th>\n",
       "      <td>102.399609</td>\n",
       "      <td>0.215623</td>\n",
       "      <td>-0.624159</td>\n",
       "      <td>27.789128</td>\n",
       "      <td>-0.075482</td>\n",
       "      <td>0.310897</td>\n",
       "    </tr>\n",
       "    <tr>\n",
       "      <th>1048573</th>\n",
       "      <td>102.399707</td>\n",
       "      <td>0.215623</td>\n",
       "      <td>-0.624159</td>\n",
       "      <td>27.789128</td>\n",
       "      <td>0.161987</td>\n",
       "      <td>0.578513</td>\n",
       "    </tr>\n",
       "    <tr>\n",
       "      <th>1048574</th>\n",
       "      <td>102.399805</td>\n",
       "      <td>0.215623</td>\n",
       "      <td>-0.624159</td>\n",
       "      <td>27.789128</td>\n",
       "      <td>-0.611381</td>\n",
       "      <td>0.048815</td>\n",
       "    </tr>\n",
       "    <tr>\n",
       "      <th>1048575</th>\n",
       "      <td>102.399902</td>\n",
       "      <td>0.215623</td>\n",
       "      <td>-0.624159</td>\n",
       "      <td>27.789128</td>\n",
       "      <td>-0.320950</td>\n",
       "      <td>-0.081989</td>\n",
       "    </tr>\n",
       "  </tbody>\n",
       "</table>\n",
       "<p>1048576 rows × 6 columns</p>\n",
       "</div>"
      ],
      "text/plain": [
       "              Time   P out bar  P in bar     Q  L/M  Vibration 1  Vibration 2\n",
       "0          0.000000   0.165204 -0.616328  27.839285     0.283178    -0.124765\n",
       "1          0.000098   0.371800 -0.616328  27.839285    -0.120759    -0.894264\n",
       "2          0.000195   0.371800 -0.616328  27.839285     0.331279     0.257127\n",
       "3          0.000293   0.371800 -0.616328  27.839285     0.509145    -0.061347\n",
       "4          0.000391   0.371800 -0.616328  27.839285     0.419741    -1.516285\n",
       "...             ...        ...       ...        ...          ...          ...\n",
       "1048571  102.399512   0.215623 -0.624159  27.789128    -0.415425    -0.193316\n",
       "1048572  102.399609   0.215623 -0.624159  27.789128    -0.075482     0.310897\n",
       "1048573  102.399707   0.215623 -0.624159  27.789128     0.161987     0.578513\n",
       "1048574  102.399805   0.215623 -0.624159  27.789128    -0.611381     0.048815\n",
       "1048575  102.399902   0.215623 -0.624159  27.789128    -0.320950    -0.081989\n",
       "\n",
       "[1048576 rows x 6 columns]"
      ]
     },
     "execution_count": 35,
     "metadata": {},
     "output_type": "execute_result"
    }
   ],
   "source": [
    "Cavitation_Vib=pd.read_csv(\"Cavitation_Vib.csv\")\n",
    "Cavitation_Vib=Cavitation_Vib.drop(columns=['Unnamed: 0'])\n",
    "Cavitation_Vib"
   ]
  },
  {
   "cell_type": "code",
   "execution_count": 36,
   "metadata": {},
   "outputs": [
    {
     "data": {
      "text/plain": [
       "0            0.000000\n",
       "1            0.000098\n",
       "2            0.000195\n",
       "3            0.000293\n",
       "4            0.000391\n",
       "              ...    \n",
       "1048571    102.399512\n",
       "1048572    102.399609\n",
       "1048573    102.399707\n",
       "1048574    102.399805\n",
       "1048575    102.399902\n",
       "Name: Time , Length: 1048576, dtype: float64"
      ]
     },
     "execution_count": 36,
     "metadata": {},
     "output_type": "execute_result"
    }
   ],
   "source": [
    "Time_cav= Cavitation_Vib['Time ']\n",
    "Time_cav"
   ]
  },
  {
   "cell_type": "code",
   "execution_count": 37,
   "metadata": {},
   "outputs": [
    {
     "data": {
      "text/html": [
       "<div>\n",
       "<style scoped>\n",
       "    .dataframe tbody tr th:only-of-type {\n",
       "        vertical-align: middle;\n",
       "    }\n",
       "\n",
       "    .dataframe tbody tr th {\n",
       "        vertical-align: top;\n",
       "    }\n",
       "\n",
       "    .dataframe thead th {\n",
       "        text-align: right;\n",
       "    }\n",
       "</style>\n",
       "<table border=\"1\" class=\"dataframe\">\n",
       "  <thead>\n",
       "    <tr style=\"text-align: right;\">\n",
       "      <th></th>\n",
       "      <th>P out bar</th>\n",
       "      <th>P in bar</th>\n",
       "      <th>Q  L/M</th>\n",
       "      <th>Vibration 1</th>\n",
       "      <th>Vibration 2</th>\n",
       "    </tr>\n",
       "  </thead>\n",
       "  <tbody>\n",
       "    <tr>\n",
       "      <th>0</th>\n",
       "      <td>0.165204</td>\n",
       "      <td>-0.616328</td>\n",
       "      <td>27.839285</td>\n",
       "      <td>0.283178</td>\n",
       "      <td>-0.124765</td>\n",
       "    </tr>\n",
       "    <tr>\n",
       "      <th>1</th>\n",
       "      <td>0.371800</td>\n",
       "      <td>-0.616328</td>\n",
       "      <td>27.839285</td>\n",
       "      <td>-0.120759</td>\n",
       "      <td>-0.894264</td>\n",
       "    </tr>\n",
       "    <tr>\n",
       "      <th>2</th>\n",
       "      <td>0.371800</td>\n",
       "      <td>-0.616328</td>\n",
       "      <td>27.839285</td>\n",
       "      <td>0.331279</td>\n",
       "      <td>0.257127</td>\n",
       "    </tr>\n",
       "    <tr>\n",
       "      <th>3</th>\n",
       "      <td>0.371800</td>\n",
       "      <td>-0.616328</td>\n",
       "      <td>27.839285</td>\n",
       "      <td>0.509145</td>\n",
       "      <td>-0.061347</td>\n",
       "    </tr>\n",
       "    <tr>\n",
       "      <th>4</th>\n",
       "      <td>0.371800</td>\n",
       "      <td>-0.616328</td>\n",
       "      <td>27.839285</td>\n",
       "      <td>0.419741</td>\n",
       "      <td>-1.516285</td>\n",
       "    </tr>\n",
       "    <tr>\n",
       "      <th>...</th>\n",
       "      <td>...</td>\n",
       "      <td>...</td>\n",
       "      <td>...</td>\n",
       "      <td>...</td>\n",
       "      <td>...</td>\n",
       "    </tr>\n",
       "    <tr>\n",
       "      <th>1048571</th>\n",
       "      <td>0.215623</td>\n",
       "      <td>-0.624159</td>\n",
       "      <td>27.789128</td>\n",
       "      <td>-0.415425</td>\n",
       "      <td>-0.193316</td>\n",
       "    </tr>\n",
       "    <tr>\n",
       "      <th>1048572</th>\n",
       "      <td>0.215623</td>\n",
       "      <td>-0.624159</td>\n",
       "      <td>27.789128</td>\n",
       "      <td>-0.075482</td>\n",
       "      <td>0.310897</td>\n",
       "    </tr>\n",
       "    <tr>\n",
       "      <th>1048573</th>\n",
       "      <td>0.215623</td>\n",
       "      <td>-0.624159</td>\n",
       "      <td>27.789128</td>\n",
       "      <td>0.161987</td>\n",
       "      <td>0.578513</td>\n",
       "    </tr>\n",
       "    <tr>\n",
       "      <th>1048574</th>\n",
       "      <td>0.215623</td>\n",
       "      <td>-0.624159</td>\n",
       "      <td>27.789128</td>\n",
       "      <td>-0.611381</td>\n",
       "      <td>0.048815</td>\n",
       "    </tr>\n",
       "    <tr>\n",
       "      <th>1048575</th>\n",
       "      <td>0.215623</td>\n",
       "      <td>-0.624159</td>\n",
       "      <td>27.789128</td>\n",
       "      <td>-0.320950</td>\n",
       "      <td>-0.081989</td>\n",
       "    </tr>\n",
       "  </tbody>\n",
       "</table>\n",
       "<p>1048576 rows × 5 columns</p>\n",
       "</div>"
      ],
      "text/plain": [
       "         P out bar  P in bar     Q  L/M  Vibration 1  Vibration 2\n",
       "0         0.165204 -0.616328  27.839285     0.283178    -0.124765\n",
       "1         0.371800 -0.616328  27.839285    -0.120759    -0.894264\n",
       "2         0.371800 -0.616328  27.839285     0.331279     0.257127\n",
       "3         0.371800 -0.616328  27.839285     0.509145    -0.061347\n",
       "4         0.371800 -0.616328  27.839285     0.419741    -1.516285\n",
       "...            ...       ...        ...          ...          ...\n",
       "1048571   0.215623 -0.624159  27.789128    -0.415425    -0.193316\n",
       "1048572   0.215623 -0.624159  27.789128    -0.075482     0.310897\n",
       "1048573   0.215623 -0.624159  27.789128     0.161987     0.578513\n",
       "1048574   0.215623 -0.624159  27.789128    -0.611381     0.048815\n",
       "1048575   0.215623 -0.624159  27.789128    -0.320950    -0.081989\n",
       "\n",
       "[1048576 rows x 5 columns]"
      ]
     },
     "execution_count": 37,
     "metadata": {},
     "output_type": "execute_result"
    }
   ],
   "source": [
    "Cavitation_Vib=Cavitation_Vib.drop(columns=['Time '])\n",
    "Cavitation_Vib"
   ]
  },
  {
   "cell_type": "code",
   "execution_count": 38,
   "metadata": {},
   "outputs": [],
   "source": [
    "for col in Cavitation_Vib:\n",
    "    Cavitation_Vib[col] = (Cavitation_Vib[col]-Cavitation_Vib[col].min())/(Cavitation_Vib[col].max()-Cavitation_Vib[col].min())"
   ]
  },
  {
   "cell_type": "code",
   "execution_count": 39,
   "metadata": {},
   "outputs": [],
   "source": [
    "scaler = StandardScaler()\n",
    "\n",
    "scaler.fit(Normal_Vib)\n",
    "Normal_Vib = scaler.transform(Normal_Vib)\n",
    "\n",
    "scaler.fit(Cavitation_Vib)\n",
    "Cavitation_Vib = scaler.transform(Cavitation_Vib)\n"
   ]
  },
  {
   "cell_type": "code",
   "execution_count": 40,
   "metadata": {
    "id": "Vf9q-P8JSJae"
   },
   "outputs": [],
   "source": [
    "df=Normal_Vib\n",
    "Cavdf=Cavitation_Vib\n"
   ]
  },
  {
   "cell_type": "code",
   "execution_count": 41,
   "metadata": {},
   "outputs": [],
   "source": [
    "df = pd.DataFrame(df, columns =['P out bar', 'P in bar', 'Q  L/M', 'Vibration 1','Vibration 2'])\n",
    "Cavdf = pd.DataFrame(Cavdf, columns =['P out bar', 'P in bar', 'Q  L/M', 'Vibration 1','Vibration 2'])\n"
   ]
  },
  {
   "cell_type": "code",
   "execution_count": 42,
   "metadata": {},
   "outputs": [
    {
     "data": {
      "text/plain": [
       "array([[-0.28449937],\n",
       "       [-1.02123779],\n",
       "       [-1.04664739],\n",
       "       ...,\n",
       "       [ 0.16538217],\n",
       "       [ 0.23279352],\n",
       "       [ 0.20199685]])"
      ]
     },
     "execution_count": 42,
     "metadata": {},
     "output_type": "execute_result"
    }
   ],
   "source": [
    "pca = PCA(n_components =1)\n",
    "pca.fit(Cavdf)\n",
    "Cavdf = pca.transform(Cavdf)\n",
    "Cavdf"
   ]
  },
  {
   "cell_type": "code",
   "execution_count": 43,
   "metadata": {},
   "outputs": [
    {
     "data": {
      "text/plain": [
       "(1048576, 1)"
      ]
     },
     "execution_count": 43,
     "metadata": {},
     "output_type": "execute_result"
    }
   ],
   "source": [
    "Cavdf.shape"
   ]
  },
  {
   "cell_type": "code",
   "execution_count": 44,
   "metadata": {},
   "outputs": [
    {
     "data": {
      "text/html": [
       "<div>\n",
       "<style scoped>\n",
       "    .dataframe tbody tr th:only-of-type {\n",
       "        vertical-align: middle;\n",
       "    }\n",
       "\n",
       "    .dataframe tbody tr th {\n",
       "        vertical-align: top;\n",
       "    }\n",
       "\n",
       "    .dataframe thead th {\n",
       "        text-align: right;\n",
       "    }\n",
       "</style>\n",
       "<table border=\"1\" class=\"dataframe\">\n",
       "  <thead>\n",
       "    <tr style=\"text-align: right;\">\n",
       "      <th></th>\n",
       "      <th>0</th>\n",
       "    </tr>\n",
       "  </thead>\n",
       "  <tbody>\n",
       "    <tr>\n",
       "      <th>0</th>\n",
       "      <td>-0.284499</td>\n",
       "    </tr>\n",
       "    <tr>\n",
       "      <th>1</th>\n",
       "      <td>-1.021238</td>\n",
       "    </tr>\n",
       "    <tr>\n",
       "      <th>2</th>\n",
       "      <td>-1.046647</td>\n",
       "    </tr>\n",
       "    <tr>\n",
       "      <th>3</th>\n",
       "      <td>-1.069470</td>\n",
       "    </tr>\n",
       "    <tr>\n",
       "      <th>4</th>\n",
       "      <td>-1.084844</td>\n",
       "    </tr>\n",
       "    <tr>\n",
       "      <th>...</th>\n",
       "      <td>...</td>\n",
       "    </tr>\n",
       "    <tr>\n",
       "      <th>1048571</th>\n",
       "      <td>0.209457</td>\n",
       "    </tr>\n",
       "    <tr>\n",
       "      <th>1048572</th>\n",
       "      <td>0.184337</td>\n",
       "    </tr>\n",
       "    <tr>\n",
       "      <th>1048573</th>\n",
       "      <td>0.165382</td>\n",
       "    </tr>\n",
       "    <tr>\n",
       "      <th>1048574</th>\n",
       "      <td>0.232794</td>\n",
       "    </tr>\n",
       "    <tr>\n",
       "      <th>1048575</th>\n",
       "      <td>0.201997</td>\n",
       "    </tr>\n",
       "  </tbody>\n",
       "</table>\n",
       "<p>1048576 rows × 1 columns</p>\n",
       "</div>"
      ],
      "text/plain": [
       "                0\n",
       "0       -0.284499\n",
       "1       -1.021238\n",
       "2       -1.046647\n",
       "3       -1.069470\n",
       "4       -1.084844\n",
       "...           ...\n",
       "1048571  0.209457\n",
       "1048572  0.184337\n",
       "1048573  0.165382\n",
       "1048574  0.232794\n",
       "1048575  0.201997\n",
       "\n",
       "[1048576 rows x 1 columns]"
      ]
     },
     "execution_count": 44,
     "metadata": {},
     "output_type": "execute_result"
    }
   ],
   "source": [
    "Cavdf = pd.DataFrame(Cavdf)\n",
    "Cavdf"
   ]
  },
  {
   "cell_type": "code",
   "execution_count": 45,
   "metadata": {},
   "outputs": [
    {
     "data": {
      "text/plain": [
       "array([[4.33434767],\n",
       "       [4.35681155],\n",
       "       [4.3579776 ],\n",
       "       ...,\n",
       "       [1.77420205],\n",
       "       [1.7777569 ],\n",
       "       [1.72643519]])"
      ]
     },
     "execution_count": 45,
     "metadata": {},
     "output_type": "execute_result"
    }
   ],
   "source": [
    "pca.fit(df)\n",
    "df = pca.transform(df)\n",
    "df"
   ]
  },
  {
   "cell_type": "code",
   "execution_count": 46,
   "metadata": {},
   "outputs": [
    {
     "data": {
      "text/html": [
       "<div>\n",
       "<style scoped>\n",
       "    .dataframe tbody tr th:only-of-type {\n",
       "        vertical-align: middle;\n",
       "    }\n",
       "\n",
       "    .dataframe tbody tr th {\n",
       "        vertical-align: top;\n",
       "    }\n",
       "\n",
       "    .dataframe thead th {\n",
       "        text-align: right;\n",
       "    }\n",
       "</style>\n",
       "<table border=\"1\" class=\"dataframe\">\n",
       "  <thead>\n",
       "    <tr style=\"text-align: right;\">\n",
       "      <th></th>\n",
       "      <th>0</th>\n",
       "    </tr>\n",
       "  </thead>\n",
       "  <tbody>\n",
       "    <tr>\n",
       "      <th>0</th>\n",
       "      <td>4.334348</td>\n",
       "    </tr>\n",
       "    <tr>\n",
       "      <th>1</th>\n",
       "      <td>4.356812</td>\n",
       "    </tr>\n",
       "    <tr>\n",
       "      <th>2</th>\n",
       "      <td>4.357978</td>\n",
       "    </tr>\n",
       "    <tr>\n",
       "      <th>3</th>\n",
       "      <td>4.326443</td>\n",
       "    </tr>\n",
       "    <tr>\n",
       "      <th>4</th>\n",
       "      <td>4.381620</td>\n",
       "    </tr>\n",
       "    <tr>\n",
       "      <th>...</th>\n",
       "      <td>...</td>\n",
       "    </tr>\n",
       "    <tr>\n",
       "      <th>919995</th>\n",
       "      <td>1.815291</td>\n",
       "    </tr>\n",
       "    <tr>\n",
       "      <th>919996</th>\n",
       "      <td>1.741833</td>\n",
       "    </tr>\n",
       "    <tr>\n",
       "      <th>919997</th>\n",
       "      <td>1.774202</td>\n",
       "    </tr>\n",
       "    <tr>\n",
       "      <th>919998</th>\n",
       "      <td>1.777757</td>\n",
       "    </tr>\n",
       "    <tr>\n",
       "      <th>919999</th>\n",
       "      <td>1.726435</td>\n",
       "    </tr>\n",
       "  </tbody>\n",
       "</table>\n",
       "<p>920000 rows × 1 columns</p>\n",
       "</div>"
      ],
      "text/plain": [
       "               0\n",
       "0       4.334348\n",
       "1       4.356812\n",
       "2       4.357978\n",
       "3       4.326443\n",
       "4       4.381620\n",
       "...          ...\n",
       "919995  1.815291\n",
       "919996  1.741833\n",
       "919997  1.774202\n",
       "919998  1.777757\n",
       "919999  1.726435\n",
       "\n",
       "[920000 rows x 1 columns]"
      ]
     },
     "execution_count": 46,
     "metadata": {},
     "output_type": "execute_result"
    }
   ],
   "source": [
    "df = pd.DataFrame(df)\n",
    "df"
   ]
  },
  {
   "cell_type": "code",
   "execution_count": 47,
   "metadata": {},
   "outputs": [],
   "source": [
    "\n",
    "X_Norm = fft(df)\n",
    "N = len(df)\n",
    "n = np.arange(N)\n",
    "sr = 1 / (60*60)\n",
    "T = N/sr\n",
    "freq = n/T \n",
    "# Get the one-sided specturm\n",
    "n_oneside = N//2\n",
    "# get the one side frequency\n",
    "f_oneside = freq[:n_oneside]"
   ]
  },
  {
   "cell_type": "code",
   "execution_count": 48,
   "metadata": {},
   "outputs": [
    {
     "data": {
      "image/png": "[encoded data removed]",
      "text/plain": [
       "<Figure size 864x432 with 1 Axes>"
      ]
     },
     "metadata": {
      "needs_background": "light"
     },
     "output_type": "display_data"
    }
   ],
   "source": [
    "plt.figure(figsize = (12, 6))\n",
    "plt.plot(f_oneside, np.abs(X_Norm[:n_oneside]), 'b')\n",
    "plt.xlabel('Freq (Hz)')\n",
    "plt.ylabel('FFT Amplitude |X(freq)|')\n",
    "plt.show()"
   ]
  },
  {
   "cell_type": "code",
   "execution_count": 49,
   "metadata": {},
   "outputs": [],
   "source": [
    "X_cav = fft(Cavdf)\n",
    "N = len(Cavdf)\n",
    "n = np.arange(N)\n",
    "sr = 1 / (60*60)\n",
    "T = N/sr\n",
    "freq = n/T \n",
    "# Get the one-sided specturm\n",
    "n_oneside = N//2\n",
    "# get the one side frequency\n",
    "f_oneside = freq[:n_oneside]"
   ]
  },
  {
   "cell_type": "code",
   "execution_count": 50,
   "metadata": {},
   "outputs": [
    {
     "data": {
      "image/png": "[encoded data removed]",
      "text/plain": [
       "<Figure size 864x432 with 1 Axes>"
      ]
     },
     "metadata": {
      "needs_background": "light"
     },
     "output_type": "display_data"
    }
   ],
   "source": [
    "plt.figure(figsize = (12, 6))\n",
    "plt.plot(f_oneside, np.abs(X_cav[:n_oneside]), 'b')\n",
    "plt.xlabel('Freq (Hz)')\n",
    "plt.ylabel('FFT Amplitude |X(freq)|')\n",
    "plt.show()"
   ]
  },
  {
   "cell_type": "code",
   "execution_count": 51,
   "metadata": {},
   "outputs": [],
   "source": [
    "X_Norm = X_Norm.real.astype(np.float32)\n",
    "X_cav = X_cav.real.astype(np.float32)"
   ]
  },
  {
   "cell_type": "code",
   "execution_count": 52,
   "metadata": {},
   "outputs": [],
   "source": [
    "X_train, X_test=train_test_split(X_Norm, test_size=0.3, random_state=1)\n"
   ]
  },
  {
   "cell_type": "code",
   "execution_count": 53,
   "metadata": {},
   "outputs": [],
   "source": [
    "k = 5\n",
    "kf = KFold(n_splits=k, random_state=1,shuffle=True)\n",
    "X = X_Norm\n",
    "for train_index , test_index in kf.split(X):\n",
    "    X_train , X_test = X[train_index,:],X[test_index,:]\n",
    "    ss=preprocessing.StandardScaler()\n",
    "    X_train = ss.fit_transform(X_train)\n",
    "    X_test = ss.fit_transform(X_test)\n"
   ]
  },
  {
   "cell_type": "code",
   "execution_count": 54,
   "metadata": {
    "id": "rl9QY718uK74"
   },
   "outputs": [
    {
     "data": {
      "text/plain": [
       "OneClassSVM(gamma=0.3, nu=0.01)"
      ]
     },
     "execution_count": 54,
     "metadata": {},
     "output_type": "execute_result"
    }
   ],
   "source": [
    "oneclass_SVM = OneClassSVM(kernel='rbf', gamma=0.3, nu=0.01)\n",
    "oneclass_SVM.fit(X_train)"
   ]
  },
  {
   "cell_type": "code",
   "execution_count": 55,
   "metadata": {
    "colab": {
     "base_uri": "https://localhost:8080/"
    },
    "id": "9-JFR5lAuK74",
    "outputId": "4c0c1cee-f665-4c13-947b-e9b8f44df730"
   },
   "outputs": [
    {
     "name": "stdout",
     "output_type": "stream",
     "text": [
      "Accuracy: 98.85%\n"
     ]
    }
   ],
   "source": [
    "prediction= oneclass_SVM.predict(X_test)\n",
    "score =0\n",
    "for f in range (0,X_test.shape[0]):\n",
    "    if(prediction[f]==1):\n",
    "        score=score+1\n",
    "\n",
    "accuracy = score / X_test.shape[0]\n",
    "print(\"Accuracy: {:.2%}\".format(accuracy))\n"
   ]
  },
  {
   "cell_type": "code",
   "execution_count": 56,
   "metadata": {
    "colab": {
     "base_uri": "https://localhost:8080/"
    },
    "id": "dN28N0tjuK77",
    "outputId": "3f1f01e9-e09b-42f3-ecea-08a92834855c"
   },
   "outputs": [
    {
     "name": "stdout",
     "output_type": "stream",
     "text": [
      "Accuracy: 95.50%\n"
     ]
    }
   ],
   "source": [
    "\n",
    "prediction= oneclass_SVM.predict(Cavdf)\n",
    "score =0\n",
    "for f in range (0,Cavdf.shape[0]):\n",
    "    if(prediction[f]==1):\n",
    "        score=score+1\n",
    "\n",
    "accuracy = score / Cavdf.shape[0]\n",
    "print(\"Accuracy: {:.2%}\".format(accuracy))\n"
   ]
  },
  {
   "cell_type": "code",
   "execution_count": 57,
   "metadata": {},
   "outputs": [
    {
     "data": {
      "text/html": [
       "<div>\n",
       "<style scoped>\n",
       "    .dataframe tbody tr th:only-of-type {\n",
       "        vertical-align: middle;\n",
       "    }\n",
       "\n",
       "    .dataframe tbody tr th {\n",
       "        vertical-align: top;\n",
       "    }\n",
       "\n",
       "    .dataframe thead th {\n",
       "        text-align: right;\n",
       "    }\n",
       "</style>\n",
       "<table border=\"1\" class=\"dataframe\">\n",
       "  <thead>\n",
       "    <tr style=\"text-align: right;\">\n",
       "      <th></th>\n",
       "      <th>0</th>\n",
       "    </tr>\n",
       "  </thead>\n",
       "  <tbody>\n",
       "    <tr>\n",
       "      <th>0</th>\n",
       "      <td>-0.284499</td>\n",
       "    </tr>\n",
       "    <tr>\n",
       "      <th>1</th>\n",
       "      <td>-1.021238</td>\n",
       "    </tr>\n",
       "    <tr>\n",
       "      <th>2</th>\n",
       "      <td>-1.046647</td>\n",
       "    </tr>\n",
       "    <tr>\n",
       "      <th>3</th>\n",
       "      <td>-1.069470</td>\n",
       "    </tr>\n",
       "    <tr>\n",
       "      <th>4</th>\n",
       "      <td>-1.084844</td>\n",
       "    </tr>\n",
       "    <tr>\n",
       "      <th>...</th>\n",
       "      <td>...</td>\n",
       "    </tr>\n",
       "    <tr>\n",
       "      <th>1048571</th>\n",
       "      <td>0.209457</td>\n",
       "    </tr>\n",
       "    <tr>\n",
       "      <th>1048572</th>\n",
       "      <td>0.184337</td>\n",
       "    </tr>\n",
       "    <tr>\n",
       "      <th>1048573</th>\n",
       "      <td>0.165382</td>\n",
       "    </tr>\n",
       "    <tr>\n",
       "      <th>1048574</th>\n",
       "      <td>0.232794</td>\n",
       "    </tr>\n",
       "    <tr>\n",
       "      <th>1048575</th>\n",
       "      <td>0.201997</td>\n",
       "    </tr>\n",
       "  </tbody>\n",
       "</table>\n",
       "<p>1048576 rows × 1 columns</p>\n",
       "</div>"
      ],
      "text/plain": [
       "                0\n",
       "0       -0.284499\n",
       "1       -1.021238\n",
       "2       -1.046647\n",
       "3       -1.069470\n",
       "4       -1.084844\n",
       "...           ...\n",
       "1048571  0.209457\n",
       "1048572  0.184337\n",
       "1048573  0.165382\n",
       "1048574  0.232794\n",
       "1048575  0.201997\n",
       "\n",
       "[1048576 rows x 1 columns]"
      ]
     },
     "execution_count": 57,
     "metadata": {},
     "output_type": "execute_result"
    }
   ],
   "source": [
    "df_test=Cavdf\n",
    "df_test"
   ]
  },
  {
   "cell_type": "code",
   "execution_count": 58,
   "metadata": {},
   "outputs": [],
   "source": [
    "prediction= oneclass_SVM.predict(df_test)\n",
    "score=oneclass_SVM.score_samples(df_test)\n",
    "prediction = [1 if i==-1 else 0 for i in prediction]\n",
    "df_test['y_test'] = score\n",
    "df_test['one_class_svm_prediction'] = prediction"
   ]
  },
  {
   "cell_type": "code",
   "execution_count": 59,
   "metadata": {
    "scrolled": true
   },
   "outputs": [
    {
     "data": {
      "image/png": "[encoded data removed]",
      "text/plain": [
       "<Figure size 1080x432 with 1 Axes>"
      ]
     },
     "metadata": {
      "needs_background": "light"
     },
     "output_type": "display_data"
    }
   ],
   "source": [
    "fig, ax = plt.subplots(figsize=(15,6))\n",
    "\n",
    "a = df_test.loc[df_test['one_class_svm_prediction'] == 1, [0]] #anomaly\n",
    "\n",
    "ax.plot(df_test.index, df_test[0], color='blue')\n",
    "ax.scatter(a.index, a[0], color='red')\n",
    "sb.despine()\n",
    "plt.title(\"Anomalies in  0\")\n",
    "\n",
    "plt.show()"
   ]
  },
  {
   "cell_type": "code",
   "execution_count": null,
   "metadata": {},
   "outputs": [],
   "source": []
  },
  {
   "cell_type": "code",
   "execution_count": null,
   "metadata": {},
   "outputs": [],
   "source": []
  },
  {
   "cell_type": "code",
   "execution_count": null,
   "metadata": {},
   "outputs": [],
   "source": []
  }
 ],
 "metadata": {
  "colab": {
   "collapsed_sections": [],
   "name": "OneClassSVM.ipynb",
   "provenance": []
  },
  "kernelspec": {
   "display_name": "Python 3",
   "language": "python",
   "name": "python3"
  },
  "language_info": {
   "codemirror_mode": {
    "name": "ipython",
    "version": 3
   },
   "file_extension": ".py",
   "mimetype": "text/x-python",
   "name": "python",
   "nbconvert_exporter": "python",
   "pygments_lexer": "ipython3",
   "version": "3.8.5"
  }
 },
 "nbformat": 4,
 "nbformat_minor": 4
}
